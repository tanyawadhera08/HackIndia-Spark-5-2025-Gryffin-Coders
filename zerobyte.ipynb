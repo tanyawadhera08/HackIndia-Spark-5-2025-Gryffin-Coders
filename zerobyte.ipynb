{
 "cells": [
  {
   "cell_type": "code",
   "execution_count": 1,
   "metadata": {
    "colab": {
     "base_uri": "https://localhost:8080/"
    },
    "executionInfo": {
     "elapsed": 3252,
     "status": "ok",
     "timestamp": 1744917493277,
     "user": {
      "displayName": "Tarun Kumar",
      "userId": "15490860466506670532"
     },
     "user_tz": -330
    },
    "id": "u-35JRybLnh8",
    "outputId": "147fa1ad-4b37-4e57-800d-6fce131379e3"
   },
   "outputs": [
    {
     "name": "stdout",
     "output_type": "stream",
     "text": [
      "✅ CVE Data Successfully Fetched & Saved!\n"
     ]
    }
   ],
   "source": [
    "import requests\n",
    "import pandas as pd\n",
    "\n",
    "# ✅ Corrected CVE API Endpoint\n",
    "CVE_API_URL = \"https://services.nvd.nist.gov/rest/json/cves/2.0\"\n",
    "\n",
    "# Set headers to properly request data\n",
    "headers = {\"Accept\": \"application/json\"}\n",
    "\n",
    "# Fetch CVE Data\n",
    "response = requests.get(CVE_API_URL, headers=headers)\n",
    "\n",
    "# Check if API request was successful\n",
    "if response.status_code == 200 and response.text.strip():\n",
    "    try:\n",
    "        cve_data = response.json()\n",
    "\n",
    "        # Extract Relevant Information\n",
    "        cve_list = []\n",
    "        for item in cve_data.get('vulnerabilities', []):\n",
    "            cve_id = item['cve']['id']\n",
    "            description = item['cve']['descriptions'][0]['value']\n",
    "            severity = item['cve'].get('metrics', {}).get('cvssMetricV2', [{}])[0].get('baseSeverity', 'Unknown')\n",
    "\n",
    "            cve_list.append({\"CVE_ID\": cve_id, \"Description\": description, \"Severity\": severity})\n",
    "\n",
    "        # Convert to DataFrame for AI Training\n",
    "        cve_df = pd.DataFrame(cve_list)\n",
    "        cve_df.to_csv(\"cve_data.csv\", index=False)\n",
    "        print(\"✅ CVE Data Successfully Fetched & Saved!\")\n",
    "\n",
    "    except requests.exceptions.JSONDecodeError:\n",
    "        print(\"⚠ Error: Failed to decode JSON response!\")\n",
    "else:\n",
    "    print(f\"⚠ Error: Received unexpected response ({response.status_code})\")"
   ]
  },
  {
   "cell_type": "code",
   "execution_count": 2,
   "metadata": {
    "colab": {
     "base_uri": "https://localhost:8080/"
    },
    "executionInfo": {
     "elapsed": 1424,
     "status": "ok",
     "timestamp": 1744917537754,
     "user": {
      "displayName": "Tarun Kumar",
      "userId": "15490860466506670532"
     },
     "user_tz": -330
    },
    "id": "9irkv4xVMI_L",
    "outputId": "4cb5ed83-cc17-4792-dd96-b74c3290ca7d"
   },
   "outputs": [
    {
     "name": "stdout",
     "output_type": "stream",
     "text": [
      "✅ CVE Data Successfully Preprocessed & Saved!\n"
     ]
    }
   ],
   "source": [
    "import pandas as pd\n",
    "import numpy as np\n",
    "import re\n",
    "from sklearn.preprocessing import LabelEncoder\n",
    "\n",
    "# Load the CVE dataset\n",
    "df = pd.read_csv(\"cve_data.csv\")\n",
    "\n",
    "# ❌ Remove all rows with unknown severity\n",
    "df = df[df[\"Severity\"] != \"Unknown\"]\n",
    "\n",
    "# Continue with your severity mapping\n",
    "severity_mapping = {\n",
    "    \"Critical\": 4,\n",
    "    \"High\": 3,\n",
    "    \"Medium\": 2,\n",
    "    \"Low\": 1\n",
    "}\n",
    "df[\"Severity_Level\"] = df[\"Severity\"].map(severity_mapping)\n",
    "\n",
    "\n",
    "# Extract keywords from descriptions for AI model training\n",
    "def extract_keywords(description):\n",
    "    words = re.findall(r'\\b\\w+\\b', description.lower())  # Tokenize words\n",
    "    important_words = [word for word in words if len(word) > 3]  # Keep meaningful words\n",
    "    return \" \".join(important_words)\n",
    "\n",
    "df[\"Processed_Description\"] = df[\"Description\"].apply(extract_keywords)\n",
    "\n",
    "# Save the preprocessed data\n",
    "df.to_csv(\"processed_cve_data.csv\", index=False)\n",
    "print(\"✅ CVE Data Successfully Preprocessed & Saved!\")"
   ]
  },
  {
   "cell_type": "code",
   "execution_count": 3,
   "metadata": {
    "executionInfo": {
     "elapsed": 4313,
     "status": "ok",
     "timestamp": 1744917580055,
     "user": {
      "displayName": "Tarun Kumar",
      "userId": "15490860466506670532"
     },
     "user_tz": -330
    },
    "id": "Oi8TGieQMSSC"
   },
   "outputs": [],
   "source": [
    "import pandas as pd\n",
    "import numpy as np\n",
    "from sklearn.model_selection import train_test_split\n",
    "from sklearn.preprocessing import StandardScaler\n",
    "from sklearn.feature_extraction.text import TfidfVectorizer\n",
    "import tensorflow as tf\n",
    "from tensorflow.keras.callbacks import EarlyStopping, ReduceLROnPlateau\n",
    "\n",
    "\n",
    "\n",
    "# Load preprocessed CVE dataset\n",
    "df = pd.read_csv(\"cve_data.csv\")\n",
    "\n",
    "# Convert severity labels to numerical values\n",
    "# Normalize and map severity\n",
    "df[\"Severity\"] = df[\"Severity\"].str.strip().str.capitalize()\n",
    "severity_mapping = {\"Critical\": 4, \"High\": 3, \"Medium\": 2, \"Low\": 1}\n",
    "df[\"Severity_Level\"] = df[\"Severity\"].map(severity_mapping)\n",
    "\n",
    "# Drop rows where severity still couldn't be mapped\n",
    "df = df.dropna(subset=[\"Severity_Level\"])\n",
    "df[\"Severity_Level\"] = df[\"Severity_Level\"].astype(int)\n",
    "\n",
    "\n",
    "# Select features and labels\n",
    "X = df.drop(columns=[\"CVE_ID\", \"Description\", \"Severity\"])\n",
    "y = df[\"Severity_Level\"]\n",
    "\n",
    "# Normalize features\n",
    "scaler = StandardScaler()\n",
    "X_scaled = scaler.fit_transform(X)\n",
    "\n",
    "# Split dataset\n",
    "X_train, X_test, y_train, y_test = train_test_split(X_scaled, y, test_size=0.2, random_state=42)"
   ]
  },
  {
   "cell_type": "code",
   "execution_count": 4,
   "metadata": {
    "colab": {
     "base_uri": "https://localhost:8080/"
    },
    "executionInfo": {
     "elapsed": 11,
     "status": "ok",
     "timestamp": 1744917634909,
     "user": {
      "displayName": "Tarun Kumar",
      "userId": "15490860466506670532"
     },
     "user_tz": -330
    },
    "id": "AnmvKdlwMhF6",
    "outputId": "2beac2d4-96e0-4154-bc0e-742a96fe29b8"
   },
   "outputs": [
    {
     "name": "stdout",
     "output_type": "stream",
     "text": [
      "Unique Severity Values: [3 2 1]\n"
     ]
    }
   ],
   "source": [
    "print(\"Unique Severity Values:\", df[\"Severity_Level\"].unique())  # Should be 0, 1, 2, 3, 4"
   ]
  },
  {
   "cell_type": "code",
   "execution_count": 5,
   "metadata": {
    "executionInfo": {
     "elapsed": 45,
     "status": "ok",
     "timestamp": 1744917652105,
     "user": {
      "displayName": "Tarun Kumar",
      "userId": "15490860466506670532"
     },
     "user_tz": -330
    },
    "id": "r14JdOpkMjUz"
   },
   "outputs": [],
   "source": [
    "df[\"Severity_Level\"] = df[\"Severity_Level\"].fillna(0).astype(int)"
   ]
  },
  {
   "cell_type": "code",
   "execution_count": 6,
   "metadata": {
    "executionInfo": {
     "elapsed": 9,
     "status": "ok",
     "timestamp": 1744917728861,
     "user": {
      "displayName": "Tarun Kumar",
      "userId": "15490860466506670532"
     },
     "user_tz": -330
    },
    "id": "ukA1Mj78M4B7"
   },
   "outputs": [],
   "source": [
    "df[\"Severity_Level\"] = df[\"Severity_Level\"].apply(lambda x: min(max(x, 0), 4))  # Clamp values to [0, 4]"
   ]
  },
  {
   "cell_type": "code",
   "execution_count": 7,
   "metadata": {
    "executionInfo": {
     "elapsed": 2,
     "status": "ok",
     "timestamp": 1744917746900,
     "user": {
      "displayName": "Tarun Kumar",
      "userId": "15490860466506670532"
     },
     "user_tz": -330
    },
    "id": "y1OydThfM8eL"
   },
   "outputs": [],
   "source": [
    "y_train = np.array(y_train, dtype=np.int32)\n",
    "y_test = np.array(y_test, dtype=np.int32)"
   ]
  },
  {
   "cell_type": "code",
   "execution_count": 8,
   "metadata": {
    "colab": {
     "base_uri": "https://localhost:8080/"
    },
    "executionInfo": {
     "elapsed": 19087,
     "status": "ok",
     "timestamp": 1744917801562,
     "user": {
      "displayName": "Tarun Kumar",
      "userId": "15490860466506670532"
     },
     "user_tz": -330
    },
    "id": "bTY67zSjM-O4",
    "outputId": "8c32f800-dd56-47c7-f5bd-a272aa199144"
   },
   "outputs": [
    {
     "name": "stdout",
     "output_type": "stream",
     "text": [
      "Epoch 1/50\n",
      "\u001b[1m50/50\u001b[0m \u001b[32m━━━━━━━━━━━━━━━━━━━━\u001b[0m\u001b[37m\u001b[0m \u001b[1m2s\u001b[0m 9ms/step - accuracy: 0.8891 - loss: 0.9736 - val_accuracy: 1.0000 - val_loss: 0.0031 - learning_rate: 0.0010\n",
      "Epoch 2/50\n",
      "\u001b[1m50/50\u001b[0m \u001b[32m━━━━━━━━━━━━━━━━━━━━\u001b[0m\u001b[37m\u001b[0m \u001b[1m0s\u001b[0m 4ms/step - accuracy: 1.0000 - loss: 0.0021 - val_accuracy: 1.0000 - val_loss: 3.5035e-04 - learning_rate: 0.0010\n",
      "Epoch 3/50\n",
      "\u001b[1m50/50\u001b[0m \u001b[32m━━━━━━━━━━━━━━━━━━━━\u001b[0m\u001b[37m\u001b[0m \u001b[1m0s\u001b[0m 4ms/step - accuracy: 1.0000 - loss: 5.6508e-04 - val_accuracy: 1.0000 - val_loss: 2.2039e-04 - learning_rate: 0.0010\n",
      "Epoch 4/50\n",
      "\u001b[1m50/50\u001b[0m \u001b[32m━━━━━━━━━━━━━━━━━━━━\u001b[0m\u001b[37m\u001b[0m \u001b[1m0s\u001b[0m 4ms/step - accuracy: 1.0000 - loss: 3.5358e-04 - val_accuracy: 1.0000 - val_loss: 1.5060e-04 - learning_rate: 0.0010\n",
      "Epoch 5/50\n",
      "\u001b[1m50/50\u001b[0m \u001b[32m━━━━━━━━━━━━━━━━━━━━\u001b[0m\u001b[37m\u001b[0m \u001b[1m0s\u001b[0m 5ms/step - accuracy: 1.0000 - loss: 2.9180e-04 - val_accuracy: 1.0000 - val_loss: 1.0574e-04 - learning_rate: 0.0010\n",
      "Epoch 6/50\n",
      "\u001b[1m50/50\u001b[0m \u001b[32m━━━━━━━━━━━━━━━━━━━━\u001b[0m\u001b[37m\u001b[0m \u001b[1m0s\u001b[0m 5ms/step - accuracy: 1.0000 - loss: 2.3106e-04 - val_accuracy: 1.0000 - val_loss: 7.6508e-05 - learning_rate: 0.0010\n",
      "Epoch 7/50\n",
      "\u001b[1m50/50\u001b[0m \u001b[32m━━━━━━━━━━━━━━━━━━━━\u001b[0m\u001b[37m\u001b[0m \u001b[1m0s\u001b[0m 4ms/step - accuracy: 1.0000 - loss: 1.5599e-04 - val_accuracy: 1.0000 - val_loss: 5.8027e-05 - learning_rate: 0.0010\n",
      "Epoch 8/50\n",
      "\u001b[1m50/50\u001b[0m \u001b[32m━━━━━━━━━━━━━━━━━━━━\u001b[0m\u001b[37m\u001b[0m \u001b[1m0s\u001b[0m 4ms/step - accuracy: 1.0000 - loss: 1.2343e-04 - val_accuracy: 1.0000 - val_loss: 4.5850e-05 - learning_rate: 0.0010\n",
      "Epoch 9/50\n",
      "\u001b[1m50/50\u001b[0m \u001b[32m━━━━━━━━━━━━━━━━━━━━\u001b[0m\u001b[37m\u001b[0m \u001b[1m0s\u001b[0m 5ms/step - accuracy: 1.0000 - loss: 1.6988e-04 - val_accuracy: 1.0000 - val_loss: 4.0224e-05 - learning_rate: 5.0000e-04\n",
      "Epoch 10/50\n",
      "\u001b[1m50/50\u001b[0m \u001b[32m━━━━━━━━━━━━━━━━━━━━\u001b[0m\u001b[37m\u001b[0m \u001b[1m0s\u001b[0m 5ms/step - accuracy: 1.0000 - loss: 6.8817e-05 - val_accuracy: 1.0000 - val_loss: 3.6324e-05 - learning_rate: 5.0000e-04\n",
      "Epoch 11/50\n",
      "\u001b[1m50/50\u001b[0m \u001b[32m━━━━━━━━━━━━━━━━━━━━\u001b[0m\u001b[37m\u001b[0m \u001b[1m0s\u001b[0m 5ms/step - accuracy: 1.0000 - loss: 7.3697e-05 - val_accuracy: 1.0000 - val_loss: 3.2724e-05 - learning_rate: 5.0000e-04\n",
      "Epoch 12/50\n",
      "\u001b[1m50/50\u001b[0m \u001b[32m━━━━━━━━━━━━━━━━━━━━\u001b[0m\u001b[37m\u001b[0m \u001b[1m0s\u001b[0m 4ms/step - accuracy: 1.0000 - loss: 8.6017e-05 - val_accuracy: 1.0000 - val_loss: 3.0863e-05 - learning_rate: 2.5000e-04\n",
      "Epoch 13/50\n",
      "\u001b[1m50/50\u001b[0m \u001b[32m━━━━━━━━━━━━━━━━━━━━\u001b[0m\u001b[37m\u001b[0m \u001b[1m0s\u001b[0m 4ms/step - accuracy: 1.0000 - loss: 6.7325e-05 - val_accuracy: 1.0000 - val_loss: 2.9137e-05 - learning_rate: 2.5000e-04\n",
      "Epoch 14/50\n",
      "\u001b[1m50/50\u001b[0m \u001b[32m━━━━━━━━━━━━━━━━━━━━\u001b[0m\u001b[37m\u001b[0m \u001b[1m0s\u001b[0m 4ms/step - accuracy: 1.0000 - loss: 7.6651e-05 - val_accuracy: 1.0000 - val_loss: 2.7508e-05 - learning_rate: 2.5000e-04\n",
      "Epoch 15/50\n",
      "\u001b[1m50/50\u001b[0m \u001b[32m━━━━━━━━━━━━━━━━━━━━\u001b[0m\u001b[37m\u001b[0m \u001b[1m0s\u001b[0m 4ms/step - accuracy: 1.0000 - loss: 5.5835e-05 - val_accuracy: 1.0000 - val_loss: 2.6752e-05 - learning_rate: 1.2500e-04\n",
      "Epoch 16/50\n",
      "\u001b[1m50/50\u001b[0m \u001b[32m━━━━━━━━━━━━━━━━━━━━\u001b[0m\u001b[37m\u001b[0m \u001b[1m0s\u001b[0m 5ms/step - accuracy: 1.0000 - loss: 7.3159e-05 - val_accuracy: 1.0000 - val_loss: 2.5921e-05 - learning_rate: 1.2500e-04\n",
      "Epoch 17/50\n",
      "\u001b[1m50/50\u001b[0m \u001b[32m━━━━━━━━━━━━━━━━━━━━\u001b[0m\u001b[37m\u001b[0m \u001b[1m0s\u001b[0m 4ms/step - accuracy: 1.0000 - loss: 5.8496e-05 - val_accuracy: 1.0000 - val_loss: 2.5085e-05 - learning_rate: 1.2500e-04\n",
      "Epoch 18/50\n",
      "\u001b[1m50/50\u001b[0m \u001b[32m━━━━━━━━━━━━━━━━━━━━\u001b[0m\u001b[37m\u001b[0m \u001b[1m0s\u001b[0m 5ms/step - accuracy: 1.0000 - loss: 5.9380e-05 - val_accuracy: 1.0000 - val_loss: 2.4694e-05 - learning_rate: 6.2500e-05\n",
      "Epoch 19/50\n",
      "\u001b[1m50/50\u001b[0m \u001b[32m━━━━━━━━━━━━━━━━━━━━\u001b[0m\u001b[37m\u001b[0m \u001b[1m0s\u001b[0m 4ms/step - accuracy: 1.0000 - loss: 6.1389e-05 - val_accuracy: 1.0000 - val_loss: 2.4247e-05 - learning_rate: 6.2500e-05\n",
      "Epoch 20/50\n",
      "\u001b[1m50/50\u001b[0m \u001b[32m━━━━━━━━━━━━━━━━━━━━\u001b[0m\u001b[37m\u001b[0m \u001b[1m0s\u001b[0m 5ms/step - accuracy: 1.0000 - loss: 5.9434e-05 - val_accuracy: 1.0000 - val_loss: 2.3837e-05 - learning_rate: 6.2500e-05\n",
      "Epoch 21/50\n",
      "\u001b[1m50/50\u001b[0m \u001b[32m━━━━━━━━━━━━━━━━━━━━\u001b[0m\u001b[37m\u001b[0m \u001b[1m0s\u001b[0m 4ms/step - accuracy: 1.0000 - loss: 5.7504e-05 - val_accuracy: 1.0000 - val_loss: 2.3633e-05 - learning_rate: 3.1250e-05\n",
      "Epoch 22/50\n",
      "\u001b[1m50/50\u001b[0m \u001b[32m━━━━━━━━━━━━━━━━━━━━\u001b[0m\u001b[37m\u001b[0m \u001b[1m0s\u001b[0m 4ms/step - accuracy: 1.0000 - loss: 5.7900e-05 - val_accuracy: 1.0000 - val_loss: 2.3432e-05 - learning_rate: 3.1250e-05\n",
      "Epoch 23/50\n",
      "\u001b[1m50/50\u001b[0m \u001b[32m━━━━━━━━━━━━━━━━━━━━\u001b[0m\u001b[37m\u001b[0m \u001b[1m0s\u001b[0m 5ms/step - accuracy: 1.0000 - loss: 6.2428e-05 - val_accuracy: 1.0000 - val_loss: 2.3209e-05 - learning_rate: 3.1250e-05\n",
      "Epoch 24/50\n",
      "\u001b[1m50/50\u001b[0m \u001b[32m━━━━━━━━━━━━━━━━━━━━\u001b[0m\u001b[37m\u001b[0m \u001b[1m0s\u001b[0m 5ms/step - accuracy: 1.0000 - loss: 7.5184e-05 - val_accuracy: 1.0000 - val_loss: 2.3083e-05 - learning_rate: 1.5625e-05\n",
      "Epoch 25/50\n",
      "\u001b[1m50/50\u001b[0m \u001b[32m━━━━━━━━━━━━━━━━━━━━\u001b[0m\u001b[37m\u001b[0m \u001b[1m0s\u001b[0m 5ms/step - accuracy: 1.0000 - loss: 6.1697e-05 - val_accuracy: 1.0000 - val_loss: 2.2962e-05 - learning_rate: 1.5625e-05\n",
      "Epoch 26/50\n",
      "\u001b[1m50/50\u001b[0m \u001b[32m━━━━━━━━━━━━━━━━━━━━\u001b[0m\u001b[37m\u001b[0m \u001b[1m0s\u001b[0m 5ms/step - accuracy: 1.0000 - loss: 4.8851e-05 - val_accuracy: 1.0000 - val_loss: 2.2857e-05 - learning_rate: 1.5625e-05\n",
      "Epoch 27/50\n",
      "\u001b[1m50/50\u001b[0m \u001b[32m━━━━━━━━━━━━━━━━━━━━\u001b[0m\u001b[37m\u001b[0m \u001b[1m0s\u001b[0m 5ms/step - accuracy: 1.0000 - loss: 6.1394e-05 - val_accuracy: 1.0000 - val_loss: 2.2795e-05 - learning_rate: 7.8125e-06\n",
      "Epoch 28/50\n",
      "\u001b[1m50/50\u001b[0m \u001b[32m━━━━━━━━━━━━━━━━━━━━\u001b[0m\u001b[37m\u001b[0m \u001b[1m0s\u001b[0m 4ms/step - accuracy: 1.0000 - loss: 5.1801e-05 - val_accuracy: 1.0000 - val_loss: 2.2736e-05 - learning_rate: 7.8125e-06\n",
      "Epoch 29/50\n",
      "\u001b[1m50/50\u001b[0m \u001b[32m━━━━━━━━━━━━━━━━━━━━\u001b[0m\u001b[37m\u001b[0m \u001b[1m0s\u001b[0m 4ms/step - accuracy: 1.0000 - loss: 7.3363e-05 - val_accuracy: 1.0000 - val_loss: 2.2662e-05 - learning_rate: 7.8125e-06\n",
      "Epoch 30/50\n",
      "\u001b[1m50/50\u001b[0m \u001b[32m━━━━━━━━━━━━━━━━━━━━\u001b[0m\u001b[37m\u001b[0m \u001b[1m0s\u001b[0m 4ms/step - accuracy: 1.0000 - loss: 6.0458e-05 - val_accuracy: 1.0000 - val_loss: 2.2631e-05 - learning_rate: 3.9063e-06\n",
      "Epoch 31/50\n",
      "\u001b[1m50/50\u001b[0m \u001b[32m━━━━━━━━━━━━━━━━━━━━\u001b[0m\u001b[37m\u001b[0m \u001b[1m0s\u001b[0m 8ms/step - accuracy: 1.0000 - loss: 4.9849e-05 - val_accuracy: 1.0000 - val_loss: 2.2603e-05 - learning_rate: 3.9063e-06\n",
      "Epoch 32/50\n",
      "\u001b[1m50/50\u001b[0m \u001b[32m━━━━━━━━━━━━━━━━━━━━\u001b[0m\u001b[37m\u001b[0m \u001b[1m1s\u001b[0m 7ms/step - accuracy: 1.0000 - loss: 5.6367e-05 - val_accuracy: 1.0000 - val_loss: 2.2572e-05 - learning_rate: 3.9063e-06\n",
      "Epoch 33/50\n",
      "\u001b[1m50/50\u001b[0m \u001b[32m━━━━━━━━━━━━━━━━━━━━\u001b[0m\u001b[37m\u001b[0m \u001b[1m1s\u001b[0m 10ms/step - accuracy: 1.0000 - loss: 6.3290e-05 - val_accuracy: 1.0000 - val_loss: 2.2555e-05 - learning_rate: 1.9531e-06\n",
      "Epoch 34/50\n",
      "\u001b[1m50/50\u001b[0m \u001b[32m━━━━━━━━━━━━━━━━━━━━\u001b[0m\u001b[37m\u001b[0m \u001b[1m1s\u001b[0m 10ms/step - accuracy: 1.0000 - loss: 6.1170e-05 - val_accuracy: 1.0000 - val_loss: 2.2537e-05 - learning_rate: 1.9531e-06\n",
      "Epoch 35/50\n",
      "\u001b[1m50/50\u001b[0m \u001b[32m━━━━━━━━━━━━━━━━━━━━\u001b[0m\u001b[37m\u001b[0m \u001b[1m0s\u001b[0m 4ms/step - accuracy: 1.0000 - loss: 5.0155e-05 - val_accuracy: 1.0000 - val_loss: 2.2519e-05 - learning_rate: 1.9531e-06\n",
      "Epoch 36/50\n",
      "\u001b[1m50/50\u001b[0m \u001b[32m━━━━━━━━━━━━━━━━━━━━\u001b[0m\u001b[37m\u001b[0m \u001b[1m0s\u001b[0m 4ms/step - accuracy: 1.0000 - loss: 7.5661e-05 - val_accuracy: 1.0000 - val_loss: 2.2509e-05 - learning_rate: 1.0000e-06\n",
      "Epoch 37/50\n",
      "\u001b[1m50/50\u001b[0m \u001b[32m━━━━━━━━━━━━━━━━━━━━\u001b[0m\u001b[37m\u001b[0m \u001b[1m0s\u001b[0m 4ms/step - accuracy: 1.0000 - loss: 5.1122e-05 - val_accuracy: 1.0000 - val_loss: 2.2500e-05 - learning_rate: 1.0000e-06\n",
      "Epoch 38/50\n",
      "\u001b[1m50/50\u001b[0m \u001b[32m━━━━━━━━━━━━━━━━━━━━\u001b[0m\u001b[37m\u001b[0m \u001b[1m0s\u001b[0m 5ms/step - accuracy: 1.0000 - loss: 6.5824e-05 - val_accuracy: 1.0000 - val_loss: 2.2486e-05 - learning_rate: 1.0000e-06\n",
      "Epoch 39/50\n",
      "\u001b[1m50/50\u001b[0m \u001b[32m━━━━━━━━━━━━━━━━━━━━\u001b[0m\u001b[37m\u001b[0m \u001b[1m0s\u001b[0m 4ms/step - accuracy: 1.0000 - loss: 5.4925e-05 - val_accuracy: 1.0000 - val_loss: 2.2475e-05 - learning_rate: 1.0000e-06\n",
      "Epoch 40/50\n",
      "\u001b[1m50/50\u001b[0m \u001b[32m━━━━━━━━━━━━━━━━━━━━\u001b[0m\u001b[37m\u001b[0m \u001b[1m0s\u001b[0m 5ms/step - accuracy: 1.0000 - loss: 5.5135e-05 - val_accuracy: 1.0000 - val_loss: 2.2465e-05 - learning_rate: 1.0000e-06\n",
      "Epoch 41/50\n",
      "\u001b[1m50/50\u001b[0m \u001b[32m━━━━━━━━━━━━━━━━━━━━\u001b[0m\u001b[37m\u001b[0m \u001b[1m0s\u001b[0m 5ms/step - accuracy: 1.0000 - loss: 5.2919e-05 - val_accuracy: 1.0000 - val_loss: 2.2454e-05 - learning_rate: 1.0000e-06\n",
      "Epoch 42/50\n",
      "\u001b[1m50/50\u001b[0m \u001b[32m━━━━━━━━━━━━━━━━━━━━\u001b[0m\u001b[37m\u001b[0m \u001b[1m0s\u001b[0m 4ms/step - accuracy: 1.0000 - loss: 6.2664e-05 - val_accuracy: 1.0000 - val_loss: 2.2441e-05 - learning_rate: 1.0000e-06\n",
      "Epoch 43/50\n",
      "\u001b[1m50/50\u001b[0m \u001b[32m━━━━━━━━━━━━━━━━━━━━\u001b[0m\u001b[37m\u001b[0m \u001b[1m0s\u001b[0m 5ms/step - accuracy: 1.0000 - loss: 7.0617e-05 - val_accuracy: 1.0000 - val_loss: 2.2430e-05 - learning_rate: 1.0000e-06\n",
      "Epoch 44/50\n",
      "\u001b[1m50/50\u001b[0m \u001b[32m━━━━━━━━━━━━━━━━━━━━\u001b[0m\u001b[37m\u001b[0m \u001b[1m0s\u001b[0m 5ms/step - accuracy: 1.0000 - loss: 6.1086e-05 - val_accuracy: 1.0000 - val_loss: 2.2416e-05 - learning_rate: 1.0000e-06\n",
      "Epoch 45/50\n",
      "\u001b[1m50/50\u001b[0m \u001b[32m━━━━━━━━━━━━━━━━━━━━\u001b[0m\u001b[37m\u001b[0m \u001b[1m0s\u001b[0m 6ms/step - accuracy: 1.0000 - loss: 5.3974e-05 - val_accuracy: 1.0000 - val_loss: 2.2405e-05 - learning_rate: 1.0000e-06\n",
      "Epoch 46/50\n",
      "\u001b[1m50/50\u001b[0m \u001b[32m━━━━━━━━━━━━━━━━━━━━\u001b[0m\u001b[37m\u001b[0m \u001b[1m1s\u001b[0m 5ms/step - accuracy: 1.0000 - loss: 7.6406e-05 - val_accuracy: 1.0000 - val_loss: 2.2391e-05 - learning_rate: 1.0000e-06\n",
      "Epoch 47/50\n",
      "\u001b[1m50/50\u001b[0m \u001b[32m━━━━━━━━━━━━━━━━━━━━\u001b[0m\u001b[37m\u001b[0m \u001b[1m0s\u001b[0m 6ms/step - accuracy: 1.0000 - loss: 4.4779e-05 - val_accuracy: 1.0000 - val_loss: 2.2375e-05 - learning_rate: 1.0000e-06\n",
      "Epoch 48/50\n",
      "\u001b[1m50/50\u001b[0m \u001b[32m━━━━━━━━━━━━━━━━━━━━\u001b[0m\u001b[37m\u001b[0m \u001b[1m1s\u001b[0m 5ms/step - accuracy: 1.0000 - loss: 5.2832e-05 - val_accuracy: 1.0000 - val_loss: 2.2361e-05 - learning_rate: 1.0000e-06\n",
      "Epoch 49/50\n",
      "\u001b[1m50/50\u001b[0m \u001b[32m━━━━━━━━━━━━━━━━━━━━\u001b[0m\u001b[37m\u001b[0m \u001b[1m0s\u001b[0m 5ms/step - accuracy: 1.0000 - loss: 5.6206e-05 - val_accuracy: 1.0000 - val_loss: 2.2347e-05 - learning_rate: 1.0000e-06\n",
      "Epoch 50/50\n",
      "\u001b[1m50/50\u001b[0m \u001b[32m━━━━━━━━━━━━━━━━━━━━\u001b[0m\u001b[37m\u001b[0m \u001b[1m1s\u001b[0m 5ms/step - accuracy: 1.0000 - loss: 5.1505e-05 - val_accuracy: 1.0000 - val_loss: 2.2336e-05 - learning_rate: 1.0000e-06\n",
      "Training completed. Epochs run: 50\n",
      "\u001b[1m13/13\u001b[0m \u001b[32m━━━━━━━━━━━━━━━━━━━━\u001b[0m\u001b[37m\u001b[0m \u001b[1m0s\u001b[0m 4ms/step - accuracy: 1.0000 - loss: 2.3884e-05 \n",
      "\n",
      "✅ Final Loss: 0.0000 | Accuracy: 1.0000\n",
      "✅ AI Model Training Complete!\n"
     ]
    }
   ],
   "source": [
    "import pandas as pd\n",
    "import numpy as np\n",
    "import tensorflow as tf\n",
    "from sklearn.model_selection import train_test_split\n",
    "from sklearn.feature_extraction.text import TfidfVectorizer\n",
    "from sklearn.utils import class_weight\n",
    "from tensorflow.keras.callbacks import EarlyStopping, ReduceLROnPlateau\n",
    "\n",
    "# Load the CVE dataset\n",
    "df = pd.read_csv(\"cve_data.csv\")\n",
    "\n",
    "# Map severity to numerical labels\n",
    "severity_mapping = {\"Critical\": 4, \"High\": 3, \"Medium\": 2, \"Low\": 1, \"Unknown\": 0}\n",
    "df[\"Severity_Level\"] = df[\"Severity\"].map(severity_mapping)\n",
    "df[\"Severity_Level\"] = df[\"Severity_Level\"].fillna(0).astype(int)\n",
    "\n",
    "# Use Description for feature engineering\n",
    "df[\"Description\"] = df[\"Description\"].fillna(\"\")\n",
    "tfidf = TfidfVectorizer(max_features=500)  # limit to top 500 words\n",
    "X_tfidf = tfidf.fit_transform(df[\"Description\"]).toarray()\n",
    "\n",
    "# Labels\n",
    "y = df[\"Severity_Level\"].values\n",
    "\n",
    "# Train/test split\n",
    "X_train, X_test, y_train, y_test = train_test_split(X_tfidf, y, test_size=0.2, random_state=42)\n",
    "\n",
    "# Define neural network model\n",
    "model = tf.keras.Sequential([\n",
    "    tf.keras.layers.Input(shape=(X_train.shape[1],)),\n",
    "    tf.keras.layers.Dense(128, activation='relu'),\n",
    "    tf.keras.layers.Dropout(0.4),\n",
    "    tf.keras.layers.Dense(64, activation='relu'),\n",
    "    tf.keras.layers.Dropout(0.3),\n",
    "    tf.keras.layers.Dense(32, activation='relu'),\n",
    "    tf.keras.layers.Dense(4, activation='softmax')  # Only 4 classes now: Low to Critical\n",
    "])\n",
    "\n",
    "# Compile model\n",
    "model.compile(optimizer=tf.keras.optimizers.Adam(learning_rate=0.001),\n",
    "              loss='sparse_categorical_crossentropy',\n",
    "              metrics=['accuracy'])\n",
    "\n",
    "# Callbacks setup\n",
    "early_stopping = EarlyStopping(monitor='val_loss', patience=5, restore_best_weights=True)\n",
    "reduce_lr = ReduceLROnPlateau(monitor='val_loss', factor=0.5, patience=3, min_lr=1e-6)\n",
    "\n",
    "# Compute class weights\n",
    "class_weights = class_weight.compute_class_weight(\n",
    "    class_weight='balanced',\n",
    "    classes=np.unique(y_train),\n",
    "    y=y_train\n",
    ")\n",
    "class_weights_dict = dict(enumerate(class_weights))\n",
    "\n",
    "# Train model with callbacks and class weights (only once!)\n",
    "history = model.fit(\n",
    "    X_train, y_train,\n",
    "    validation_data=(X_test, y_test),\n",
    "    epochs=50,  # Train for 50 epochs\n",
    "    batch_size=32,\n",
    "    callbacks=[early_stopping, reduce_lr],\n",
    "    class_weight=class_weights_dict  # Add class weights\n",
    ")\n",
    "\n",
    "# Print training history\n",
    "print(f\"Training completed. Epochs run: {len(history.history['loss'])}\")\n",
    "\n",
    "# Evaluate the model\n",
    "test_loss, test_acc = model.evaluate(X_test, y_test)\n",
    "print(f\"\\n✅ Final Loss: {test_loss:.4f} | Accuracy: {test_acc:.4f}\")\n",
    "print(\"✅ AI Model Training Complete!\")"
   ]
  },
  {
   "cell_type": "code",
   "execution_count": 10,
   "metadata": {
    "colab": {
     "base_uri": "https://localhost:8080/"
    },
    "executionInfo": {
     "elapsed": 429,
     "status": "ok",
     "timestamp": 1744917860165,
     "user": {
      "displayName": "Tarun Kumar",
      "userId": "15490860466506670532"
     },
     "user_tz": -330
    },
    "id": "PvRbbhoaNOX7",
    "outputId": "94ed0ba6-11ca-46ec-b7e1-8ba01eb7ce84"
   },
   "outputs": [
    {
     "name": "stdout",
     "output_type": "stream",
     "text": [
      "\u001b[1m13/13\u001b[0m \u001b[32m━━━━━━━━━━━━━━━━━━━━\u001b[0m\u001b[37m\u001b[0m \u001b[1m0s\u001b[0m 9ms/step - accuracy: 1.0000 - loss: 2.3884e-05 \n"
     ]
    },
    {
     "name": "stderr",
     "output_type": "stream",
     "text": [
      "WARNING:absl:You are saving your model as an HDF5 file via `model.save()` or `keras.saving.save_model(model)`. This file format is considered legacy. We recommend using instead the native Keras format, e.g. `model.save('my_model.keras')` or `keras.saving.save_model(model, 'my_model.keras')`. \n"
     ]
    },
    {
     "name": "stdout",
     "output_type": "stream",
     "text": [
      "✅ Model Accuracy: 1.00\n",
      "📉 Model Loss: 0.0000\n"
     ]
    }
   ],
   "source": [
    "import joblib # Import the joblib library\n",
    "\n",
    "# Evaluate model accuracy\n",
    "loss, accuracy = model.evaluate(X_test, y_test)\n",
    "print(f\"✅ Model Accuracy: {accuracy:.2f}\")\n",
    "print(f\"📉 Model Loss: {loss:.4f}\")\n",
    "joblib.dump(tfidf, \"tfidf_vectorizer.pkl\")\n",
    "model.save(\"cve_severity_model.h5\")"
   ]
  },
  {
   "cell_type": "code",
   "execution_count": 14,
   "metadata": {
    "colab": {
     "base_uri": "https://localhost:8080/"
    },
    "executionInfo": {
     "elapsed": 217,
     "status": "ok",
     "timestamp": 1744918130192,
     "user": {
      "displayName": "Tarun Kumar",
      "userId": "15490860466506670532"
     },
     "user_tz": -330
    },
    "id": "DRgams7UONhX",
    "outputId": "96461a6f-572a-4d06-c580-ad657d1fdeac"
   },
   "outputs": [
    {
     "name": "stderr",
     "output_type": "stream",
     "text": [
      "WARNING:absl:Compiled the loaded model, but the compiled metrics have yet to be built. `model.compile_metrics` will be empty until you train or evaluate the model.\n"
     ]
    },
    {
     "name": "stdout",
     "output_type": "stream",
     "text": [
      "\u001b[1m1/1\u001b[0m \u001b[32m━━━━━━━━━━━━━━━━━━━━\u001b[0m\u001b[37m\u001b[0m \u001b[1m0s\u001b[0m 77ms/step\n",
      "🔒 Predicted Severity: Unknown (Confidence: 1.00)\n"
     ]
    }
   ],
   "source": [
    "import requests\n",
    "import pandas as pd\n",
    "import numpy as np\n",
    "import tensorflow as tf\n",
    "import joblib\n",
    "import random\n",
    "\n",
    "# Load vectorizer and model\n",
    "tfidf = joblib.load(\"tfidf_vectorizer.pkl\")\n",
    "model = tf.keras.models.load_model(\"cve_severity_model.h5\")\n",
    "\n",
    "# Load latest CVE data\n",
    "df = pd.read_csv(\"latest_cve_data.csv\")\n",
    "\n",
    "# Drop empty descriptions (if any)\n",
    "df = df[df[\"Description\"].notnull()]\n",
    "\n",
    "# Randomly select one CVE sample\n",
    "# random_index = random.randint(0, len(df) - 1)\n",
    "# sample = df.iloc[random_index:random_index+1]\n",
    "sample = df.iloc[[0]] # Select the first sample\n",
    "\n",
    "# Vectorize description using the loaded tfidf\n",
    "X_new = tfidf.transform(sample[\"Description\"]).toarray()\n",
    "\n",
    "# Predict\n",
    "predictions = model.predict(X_new)\n",
    "predicted_index = np.argmax(predictions[0])  # Get index of highest probability\n",
    "confidence = predictions[0][predicted_index] # Confidence of prediction\n",
    "\n",
    "# Severity labels (assuming your model outputs 0-3 for Low-Critical)\n",
    "severity_labels = [\"Unknown\", \"Low\", \"Medium\", \"High\", \"Critical\"]  # Adjust labels if needed\n",
    "label = severity_labels[predicted_index]\n",
    "\n",
    "print(f\"🔒 Predicted Severity: {label} (Confidence: {confidence:.2f})\")"
   ]
  },
  {
   "cell_type": "code",
   "execution_count": null,
   "metadata": {
    "colab": {
     "base_uri": "https://localhost:8080/"
    },
    "executionInfo": {
     "elapsed": 438,
     "status": "ok",
     "timestamp": 1744918143044,
     "user": {
      "displayName": "Tarun Kumar",
      "userId": "15490860466506670532"
     },
     "user_tz": -330
    },
    "id": "M9TrSZDlNnBL",
    "outputId": "44c024cc-0f98-4214-9fed-91cc9eb0f91f"
   },
   "outputs": [
    {
     "name": "stderr",
     "output_type": "stream",
     "text": [
      "WARNING:absl:Compiled the loaded model, but the compiled metrics have yet to be built. `model.compile_metrics` will be empty until you train or evaluate the model.\n",
      "WARNING:tensorflow:6 out of the last 6 calls to <function TensorFlowTrainer.make_predict_function.<locals>.one_step_on_data_distributed at 0x795eacd1bec0> triggered tf.function retracing. Tracing is expensive and the excessive number of tracings could be due to (1) creating @tf.function repeatedly in a loop, (2) passing tensors with different shapes, (3) passing Python objects instead of tensors. For (1), please define your @tf.function outside of the loop. For (2), @tf.function has reduce_retracing=True option that can avoid unnecessary retracing. For (3), please refer to https://www.tensorflow.org/guide/function#controlling_retracing and https://www.tensorflow.org/api_docs/python/tf/function for  more details.\n"
     ]
    },
    {
     "name": "stdout",
     "output_type": "stream",
     "text": [
      "\u001b[1m1/1\u001b[0m \u001b[32m━━━━━━━━━━━━━━━━━━━━\u001b[0m\u001b[37m\u001b[0m \u001b[1m0s\u001b[0m 73ms/step\n",
      "🔒 Predicted Severity: Low\n"
     ]
    }
   ],
   "source": [
    "import pandas as pd\n",
    "import numpy as np\n",
    "import tensorflow as tf\n",
    "import joblib\n",
    "import random\n",
    "\n",
    "# Load vectorizer and model\n",
    "tfidf = joblib.load(\"tfidf_vectorizer.pkl\")\n",
    "X_new = tfidf.transform(df[\"Description\"]).toarray()\n",
    "model = tf.keras.models.load_model(\"cve_severity_model.h5\")\n",
    "\n",
    "# Load latest CVE data\n",
    "df = pd.read_csv(\"latest_cve_data.csv\")\n",
    "\n",
    "# Drop empty descriptions (if any)\n",
    "df = df[df[\"Description\"].notnull()]\n",
    "\n",
    "# Randomly select one CVE sample\n",
    "random_index = random.randint(0, len(df) - 1)\n",
    "sample = df.iloc[random_index:random_index+1]\n",
    "\n",
    "# Vectorize description\n",
    "X_new = tfidf.transform(sample[\"Description\"]).toarray()\n",
    "\n",
    "# Predict\n",
    "predictions = model.predict(X_new)\n",
    "predicted_index = np.argmax(predictions[0])\n",
    "confidence = predictions[0][predicted_index]\n",
    "\n",
    "# Severity labels\n",
    "severity_labels = [\"Low\", \"Medium\", \"High\", \"Critical\"]\n",
    "label = severity_labels[predicted_index]\n",
    "\n",
    "\n",
    "print(f\"🔒 Predicted Severity: {label}\")"
   ]
  }
 ],
 "metadata": {
  "colab": {
   "authorship_tag": "ABX9TyNl/k7CxyWd9lmKIRFxX/dB",
   "provenance": []
  },
  "kernelspec": {
   "display_name": "Python 3",
   "name": "python3"
  },
  "language_info": {
   "name": "python"
  }
 },
 "nbformat": 4,
 "nbformat_minor": 0
}
